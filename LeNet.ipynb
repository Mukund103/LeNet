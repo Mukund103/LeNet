{
  "nbformat": 4,
  "nbformat_minor": 0,
  "metadata": {
    "colab": {
      "name": "LeNet.ipynb",
      "provenance": [],
      "mount_file_id": "https://github.com/Mukund103/LeNet/blob/master/LeNet.ipynb",
      "authorship_tag": "ABX9TyPFJI6kLVpcEvZiRmr4JGmZ",
      "include_colab_link": true
    },
    "kernelspec": {
      "name": "python3",
      "display_name": "Python 3"
    }
  },
  "cells": [
    {
      "cell_type": "markdown",
      "metadata": {
        "id": "view-in-github",
        "colab_type": "text"
      },
      "source": [
        "<a href=\"https://colab.research.google.com/github/Mukund103/LeNet/blob/master/LeNet.ipynb\" target=\"_parent\"><img src=\"https://colab.research.google.com/assets/colab-badge.svg\" alt=\"Open In Colab\"/></a>"
      ]
    },
    {
      "cell_type": "code",
      "metadata": {
        "id": "37MRkD3634lg",
        "colab_type": "code",
        "outputId": "b90db770-2a0a-4947-9026-82a21b08d0bf",
        "colab": {
          "base_uri": "https://localhost:8080/",
          "height": 34
        }
      },
      "source": [
        "from keras.preprocessing.image import ImageDataGenerator\n",
        "from keras.models import Sequential\n",
        "from keras.layers import Dense, Dropout, Activation, Flatten\n",
        "from keras.layers import Conv2D, MaxPooling2D, ZeroPadding2D\n",
        "from keras.layers.normalization import BatchNormalization\n",
        "from keras.regularizers import l2\n",
        "from keras.datasets import mnist\n",
        "from keras.utils import np_utils\n",
        "import keras"
      ],
      "execution_count": 1,
      "outputs": [
        {
          "output_type": "stream",
          "text": [
            "Using TensorFlow backend.\n"
          ],
          "name": "stderr"
        }
      ]
    },
    {
      "cell_type": "code",
      "metadata": {
        "id": "1DMZS9rb4LTY",
        "colab_type": "code",
        "colab": {}
      },
      "source": [
        "(x_train, y_train), (x_test, y_test)  = mnist.load_data()"
      ],
      "execution_count": 0,
      "outputs": []
    },
    {
      "cell_type": "code",
      "metadata": {
        "id": "kAAPRUkI47rf",
        "colab_type": "code",
        "outputId": "3810d82e-3277-49d6-d192-e65207c4b075",
        "colab": {
          "base_uri": "https://localhost:8080/",
          "height": 34
        }
      },
      "source": [
        "x_train.shape"
      ],
      "execution_count": 4,
      "outputs": [
        {
          "output_type": "execute_result",
          "data": {
            "text/plain": [
              "(60000, 28, 28)"
            ]
          },
          "metadata": {
            "tags": []
          },
          "execution_count": 4
        }
      ]
    },
    {
      "cell_type": "code",
      "metadata": {
        "id": "AsIOTs5ZIfrl",
        "colab_type": "code",
        "colab": {}
      },
      "source": [
        "img_rows = x_train[0].shape[0]\n"
      ],
      "execution_count": 0,
      "outputs": []
    },
    {
      "cell_type": "code",
      "metadata": {
        "id": "ddsdJYOnJEuZ",
        "colab_type": "code",
        "colab": {}
      },
      "source": [
        "import matplotlib.pyplot as plt"
      ],
      "execution_count": 0,
      "outputs": []
    },
    {
      "cell_type": "code",
      "metadata": {
        "id": "8IQhgaTJIjJ5",
        "colab_type": "code",
        "outputId": "4f6c7f72-5dcc-461c-87c3-5b6f12e15a07",
        "colab": {
          "base_uri": "https://localhost:8080/",
          "height": 34
        }
      },
      "source": [
        "img_rows"
      ],
      "execution_count": 7,
      "outputs": [
        {
          "output_type": "execute_result",
          "data": {
            "text/plain": [
              "28"
            ]
          },
          "metadata": {
            "tags": []
          },
          "execution_count": 7
        }
      ]
    },
    {
      "cell_type": "code",
      "metadata": {
        "id": "lK4cY23WIlgC",
        "colab_type": "code",
        "colab": {}
      },
      "source": [
        "img_cols = x_train[0].shape[1]"
      ],
      "execution_count": 0,
      "outputs": []
    },
    {
      "cell_type": "code",
      "metadata": {
        "id": "lTfLHzDiIqSm",
        "colab_type": "code",
        "outputId": "9601e4c4-41dc-438c-ec93-4f84e23dace9",
        "colab": {
          "base_uri": "https://localhost:8080/",
          "height": 34
        }
      },
      "source": [
        "img_cols"
      ],
      "execution_count": 9,
      "outputs": [
        {
          "output_type": "execute_result",
          "data": {
            "text/plain": [
              "28"
            ]
          },
          "metadata": {
            "tags": []
          },
          "execution_count": 9
        }
      ]
    },
    {
      "cell_type": "code",
      "metadata": {
        "id": "0zUqQzRdIteJ",
        "colab_type": "code",
        "colab": {}
      },
      "source": [
        "input_shape = (img_rows, img_cols, 1)\n"
      ],
      "execution_count": 0,
      "outputs": []
    },
    {
      "cell_type": "code",
      "metadata": {
        "id": "JgBIifWMLCR_",
        "colab_type": "code",
        "colab": {}
      },
      "source": [
        "x_train = x_train.reshape(x_train.shape[0], img_rows, img_cols, 1)\n",
        "x_test = x_test.reshape(x_test.shape[0], img_rows, img_cols, 1)"
      ],
      "execution_count": 0,
      "outputs": []
    },
    {
      "cell_type": "code",
      "metadata": {
        "id": "F4nP-bUrLavL",
        "colab_type": "code",
        "colab": {}
      },
      "source": [
        "x_train = x_train.astype('float32')\n",
        "x_test = x_test.astype('float32')"
      ],
      "execution_count": 0,
      "outputs": []
    },
    {
      "cell_type": "code",
      "metadata": {
        "id": "VWGFghJALgGf",
        "colab_type": "code",
        "colab": {}
      },
      "source": [
        "x_train /= 255\n",
        "x_test /= 255\n"
      ],
      "execution_count": 0,
      "outputs": []
    },
    {
      "cell_type": "code",
      "metadata": {
        "id": "qSA6KoQ8Lm5A",
        "colab_type": "code",
        "colab": {}
      },
      "source": [
        "y_train = np_utils.to_categorical(y_train)\n",
        "y_test = np_utils.to_categorical(y_test)"
      ],
      "execution_count": 0,
      "outputs": []
    },
    {
      "cell_type": "code",
      "metadata": {
        "id": "-6RwnljkLrJB",
        "colab_type": "code",
        "colab": {}
      },
      "source": [
        "num_classes = y_test.shape[1]"
      ],
      "execution_count": 0,
      "outputs": []
    },
    {
      "cell_type": "code",
      "metadata": {
        "id": "7_GDSh2b5FPW",
        "colab_type": "code",
        "colab": {}
      },
      "source": [
        "model = Sequential()\n"
      ],
      "execution_count": 0,
      "outputs": []
    },
    {
      "cell_type": "code",
      "metadata": {
        "id": "FXS6Qqn95JGc",
        "colab_type": "code",
        "colab": {}
      },
      "source": [
        "model.add(Conv2D(20, (5, 5),\n",
        "                 padding = \"same\", \n",
        "                 input_shape = input_shape))\n",
        "model.add(Activation(\"relu\"))\n",
        "model.add(MaxPooling2D(pool_size = (2, 2), strides = (2, 2)))"
      ],
      "execution_count": 0,
      "outputs": []
    },
    {
      "cell_type": "code",
      "metadata": {
        "id": "wz2yHhCZ5NNh",
        "colab_type": "code",
        "colab": {}
      },
      "source": [
        "model.add(Conv2D(50, (5, 5),\n",
        "                 padding = \"same\"))\n",
        "model.add(Activation(\"relu\"))\n",
        "model.add(MaxPooling2D(pool_size = (2, 2), strides = (2, 2)))"
      ],
      "execution_count": 0,
      "outputs": []
    },
    {
      "cell_type": "code",
      "metadata": {
        "id": "3aZ5qBgA6ycn",
        "colab_type": "code",
        "colab": {}
      },
      "source": [
        "model.add(Flatten())"
      ],
      "execution_count": 0,
      "outputs": []
    },
    {
      "cell_type": "code",
      "metadata": {
        "id": "FeVEgaCi7vSo",
        "colab_type": "code",
        "colab": {}
      },
      "source": [
        "model.add(Dense(500))\n",
        "model.add(Activation(\"relu\"))"
      ],
      "execution_count": 0,
      "outputs": []
    },
    {
      "cell_type": "code",
      "metadata": {
        "id": "vE2uwPn3Kk6N",
        "colab_type": "code",
        "colab": {}
      },
      "source": [
        "model.add(Dense(num_classes))\n",
        "model.add(Activation(\"softmax\"))\n",
        "           "
      ],
      "execution_count": 0,
      "outputs": []
    },
    {
      "cell_type": "code",
      "metadata": {
        "id": "LClMxAZPKpHo",
        "colab_type": "code",
        "colab": {}
      },
      "source": [
        "model.compile(loss = 'categorical_crossentropy',\n",
        "              optimizer = keras.optimizers.Adadelta(),\n",
        "              metrics = ['accuracy'])"
      ],
      "execution_count": 0,
      "outputs": []
    },
    {
      "cell_type": "code",
      "metadata": {
        "id": "lB3StbF1MHY9",
        "colab_type": "code",
        "outputId": "27a30f55-cef1-453f-cf0b-0f51d45dcf33",
        "colab": {
          "base_uri": "https://localhost:8080/",
          "height": 538
        }
      },
      "source": [
        "print(model.summary())"
      ],
      "execution_count": 23,
      "outputs": [
        {
          "output_type": "stream",
          "text": [
            "Model: \"sequential_1\"\n",
            "_________________________________________________________________\n",
            "Layer (type)                 Output Shape              Param #   \n",
            "=================================================================\n",
            "conv2d_1 (Conv2D)            (None, 28, 28, 20)        520       \n",
            "_________________________________________________________________\n",
            "activation_1 (Activation)    (None, 28, 28, 20)        0         \n",
            "_________________________________________________________________\n",
            "max_pooling2d_1 (MaxPooling2 (None, 14, 14, 20)        0         \n",
            "_________________________________________________________________\n",
            "conv2d_2 (Conv2D)            (None, 14, 14, 50)        25050     \n",
            "_________________________________________________________________\n",
            "activation_2 (Activation)    (None, 14, 14, 50)        0         \n",
            "_________________________________________________________________\n",
            "max_pooling2d_2 (MaxPooling2 (None, 7, 7, 50)          0         \n",
            "_________________________________________________________________\n",
            "flatten_1 (Flatten)          (None, 2450)              0         \n",
            "_________________________________________________________________\n",
            "dense_1 (Dense)              (None, 500)               1225500   \n",
            "_________________________________________________________________\n",
            "activation_3 (Activation)    (None, 500)               0         \n",
            "_________________________________________________________________\n",
            "dense_2 (Dense)              (None, 10)                5010      \n",
            "_________________________________________________________________\n",
            "activation_4 (Activation)    (None, 10)                0         \n",
            "=================================================================\n",
            "Total params: 1,256,080\n",
            "Trainable params: 1,256,080\n",
            "Non-trainable params: 0\n",
            "_________________________________________________________________\n",
            "None\n"
          ],
          "name": "stdout"
        }
      ]
    },
    {
      "cell_type": "code",
      "metadata": {
        "id": "Q2OxUbP0MMSv",
        "colab_type": "code",
        "outputId": "ea9fe3b7-ecc8-4654-af27-0020dcb46e4c",
        "colab": {
          "base_uri": "https://localhost:8080/",
          "height": 538
        }
      },
      "source": [
        "history = model.fit(x_train, y_train,\n",
        "          batch_size=128,\n",
        "          epochs=15,\n",
        "          validation_data=(x_test, y_test),\n",
        "          shuffle=True)"
      ],
      "execution_count": 24,
      "outputs": [
        {
          "output_type": "stream",
          "text": [
            "Train on 60000 samples, validate on 10000 samples\n",
            "Epoch 1/15\n",
            "60000/60000 [==============================] - 109s 2ms/step - loss: 0.1846 - accuracy: 0.9420 - val_loss: 0.0521 - val_accuracy: 0.9828\n",
            "Epoch 2/15\n",
            "60000/60000 [==============================] - 107s 2ms/step - loss: 0.0451 - accuracy: 0.9866 - val_loss: 0.0336 - val_accuracy: 0.9885\n",
            "Epoch 3/15\n",
            "60000/60000 [==============================] - 108s 2ms/step - loss: 0.0307 - accuracy: 0.9901 - val_loss: 0.0341 - val_accuracy: 0.9883\n",
            "Epoch 4/15\n",
            "60000/60000 [==============================] - 105s 2ms/step - loss: 0.0211 - accuracy: 0.9933 - val_loss: 0.0217 - val_accuracy: 0.9928\n",
            "Epoch 5/15\n",
            "60000/60000 [==============================] - 106s 2ms/step - loss: 0.0158 - accuracy: 0.9953 - val_loss: 0.0223 - val_accuracy: 0.9924\n",
            "Epoch 6/15\n",
            "60000/60000 [==============================] - 107s 2ms/step - loss: 0.0113 - accuracy: 0.9964 - val_loss: 0.0209 - val_accuracy: 0.9923\n",
            "Epoch 7/15\n",
            "60000/60000 [==============================] - 107s 2ms/step - loss: 0.0090 - accuracy: 0.9973 - val_loss: 0.0255 - val_accuracy: 0.9913\n",
            "Epoch 8/15\n",
            "60000/60000 [==============================] - 106s 2ms/step - loss: 0.0066 - accuracy: 0.9980 - val_loss: 0.0269 - val_accuracy: 0.9918\n",
            "Epoch 9/15\n",
            "60000/60000 [==============================] - 106s 2ms/step - loss: 0.0053 - accuracy: 0.9985 - val_loss: 0.0264 - val_accuracy: 0.9916\n",
            "Epoch 10/15\n",
            "60000/60000 [==============================] - 105s 2ms/step - loss: 0.0036 - accuracy: 0.9990 - val_loss: 0.0276 - val_accuracy: 0.9910\n",
            "Epoch 11/15\n",
            "60000/60000 [==============================] - 105s 2ms/step - loss: 0.0024 - accuracy: 0.9993 - val_loss: 0.0264 - val_accuracy: 0.9927\n",
            "Epoch 12/15\n",
            "60000/60000 [==============================] - 105s 2ms/step - loss: 0.0020 - accuracy: 0.9994 - val_loss: 0.0227 - val_accuracy: 0.9931\n",
            "Epoch 13/15\n",
            "60000/60000 [==============================] - 105s 2ms/step - loss: 0.0012 - accuracy: 0.9996 - val_loss: 0.0279 - val_accuracy: 0.9922\n",
            "Epoch 14/15\n",
            "60000/60000 [==============================] - 104s 2ms/step - loss: 9.0841e-04 - accuracy: 0.9998 - val_loss: 0.0377 - val_accuracy: 0.9902\n",
            "Epoch 15/15\n",
            "60000/60000 [==============================] - 104s 2ms/step - loss: 7.4924e-04 - accuracy: 0.9997 - val_loss: 0.0275 - val_accuracy: 0.9932\n"
          ],
          "name": "stdout"
        }
      ]
    },
    {
      "cell_type": "code",
      "metadata": {
        "id": "8jIJI9v9WBeP",
        "colab_type": "code",
        "colab": {}
      },
      "source": [
        ""
      ],
      "execution_count": 0,
      "outputs": []
    },
    {
      "cell_type": "code",
      "metadata": {
        "id": "kuse3-viNBo2",
        "colab_type": "code",
        "colab": {}
      },
      "source": [
        "model.save(\"mnist_LeNet.h5\")"
      ],
      "execution_count": 0,
      "outputs": []
    },
    {
      "cell_type": "code",
      "metadata": {
        "id": "N03v1bCdVegI",
        "colab_type": "code",
        "outputId": "cba713af-bc12-4cff-dc93-f8a7c22f9ae6",
        "colab": {
          "base_uri": "https://localhost:8080/",
          "height": 67
        }
      },
      "source": [
        "scores = model.evaluate(x_test, y_test, verbose=1)\n",
        "print('Test loss:', scores[0])\n",
        "print('Test accuracy:', scores[1])"
      ],
      "execution_count": 26,
      "outputs": [
        {
          "output_type": "stream",
          "text": [
            "10000/10000 [==============================] - 6s 588us/step\n",
            "Test loss: 0.02750386519279901\n",
            "Test accuracy: 0.9932000041007996\n"
          ],
          "name": "stdout"
        }
      ]
    },
    {
      "cell_type": "code",
      "metadata": {
        "id": "uZxnmrntVnnw",
        "colab_type": "code",
        "colab": {}
      },
      "source": [
        ""
      ],
      "execution_count": 0,
      "outputs": []
    }
  ]
}