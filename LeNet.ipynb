{
  "nbformat": 4,
  "nbformat_minor": 0,
  "metadata": {
    "colab": {
      "name": "LeNet.ipynb",
      "provenance": [],
      "authorship_tag": "ABX9TyMEhT2R1FVosGRw0Rtxp2Wg",
      "include_colab_link": true
    },
    "kernelspec": {
      "name": "python3",
      "display_name": "Python 3"
    }
  },
  "cells": [
    {
      "cell_type": "markdown",
      "metadata": {
        "id": "view-in-github",
        "colab_type": "text"
      },
      "source": [
        "<a href=\"https://colab.research.google.com/github/Mukund103/LeNet/blob/master/LeNet.ipynb\" target=\"_parent\"><img src=\"https://colab.research.google.com/assets/colab-badge.svg\" alt=\"Open In Colab\"/></a>"
      ]
    },
    {
      "cell_type": "code",
      "metadata": {
        "id": "37MRkD3634lg",
        "colab_type": "code",
        "colab": {
          "base_uri": "https://localhost:8080/",
          "height": 34
        },
        "outputId": "d54362fb-7a37-4288-a21d-de64c2e8ff02"
      },
      "source": [
        "from keras.preprocessing.image import ImageDataGenerator\n",
        "from keras.models import Sequential\n",
        "from keras.layers import Dense, Dropout, Activation, Flatten\n",
        "from keras.layers import Conv2D, MaxPooling2D, ZeroPadding2D\n",
        "from keras.layers.normalization import BatchNormalization\n",
        "from keras.regularizers import l2\n",
        "from keras.datasets import mnist\n",
        "from keras.utils import np_utils\n",
        "import keras"
      ],
      "execution_count": 12,
      "outputs": [
        {
          "output_type": "stream",
          "text": [
            "Using TensorFlow backend.\n"
          ],
          "name": "stderr"
        }
      ]
    },
    {
      "cell_type": "code",
      "metadata": {
        "id": "1DMZS9rb4LTY",
        "colab_type": "code",
        "colab": {}
      },
      "source": [
        "(x_train, y_train), (x_test, y_test)  = mnist.load_data()"
      ],
      "execution_count": 0,
      "outputs": []
    },
    {
      "cell_type": "code",
      "metadata": {
        "id": "kAAPRUkI47rf",
        "colab_type": "code",
        "colab": {
          "base_uri": "https://localhost:8080/",
          "height": 34
        },
        "outputId": "81f56ba3-5a12-4988-c185-5ab5f9adad6c"
      },
      "source": [
        "x_train.shape"
      ],
      "execution_count": 18,
      "outputs": [
        {
          "output_type": "execute_result",
          "data": {
            "text/plain": [
              "(60000, 28, 28)"
            ]
          },
          "metadata": {
            "tags": []
          },
          "execution_count": 18
        }
      ]
    },
    {
      "cell_type": "code",
      "metadata": {
        "id": "AsIOTs5ZIfrl",
        "colab_type": "code",
        "colab": {}
      },
      "source": [
        "img_rows = x_train[0].shape[0]\n"
      ],
      "execution_count": 0,
      "outputs": []
    },
    {
      "cell_type": "code",
      "metadata": {
        "id": "ddsdJYOnJEuZ",
        "colab_type": "code",
        "colab": {}
      },
      "source": [
        "import matplotlib.pyplot as plt"
      ],
      "execution_count": 0,
      "outputs": []
    },
    {
      "cell_type": "code",
      "metadata": {
        "id": "8IQhgaTJIjJ5",
        "colab_type": "code",
        "colab": {
          "base_uri": "https://localhost:8080/",
          "height": 34
        },
        "outputId": "0aa0b2a8-d87b-43e8-ae8b-b3a058f8f75b"
      },
      "source": [
        "img_rows"
      ],
      "execution_count": 35,
      "outputs": [
        {
          "output_type": "execute_result",
          "data": {
            "text/plain": [
              "28"
            ]
          },
          "metadata": {
            "tags": []
          },
          "execution_count": 35
        }
      ]
    },
    {
      "cell_type": "code",
      "metadata": {
        "id": "lK4cY23WIlgC",
        "colab_type": "code",
        "colab": {}
      },
      "source": [
        "img_cols = x_train[0].shape[1]"
      ],
      "execution_count": 0,
      "outputs": []
    },
    {
      "cell_type": "code",
      "metadata": {
        "id": "lTfLHzDiIqSm",
        "colab_type": "code",
        "colab": {
          "base_uri": "https://localhost:8080/",
          "height": 34
        },
        "outputId": "d08e8755-21b1-4656-d10f-0437593d12ff"
      },
      "source": [
        "img_cols"
      ],
      "execution_count": 34,
      "outputs": [
        {
          "output_type": "execute_result",
          "data": {
            "text/plain": [
              "28"
            ]
          },
          "metadata": {
            "tags": []
          },
          "execution_count": 34
        }
      ]
    },
    {
      "cell_type": "code",
      "metadata": {
        "id": "0zUqQzRdIteJ",
        "colab_type": "code",
        "colab": {}
      },
      "source": [
        "input_shape = (img_rows, img_cols, 1)\n"
      ],
      "execution_count": 0,
      "outputs": []
    },
    {
      "cell_type": "code",
      "metadata": {
        "id": "JgBIifWMLCR_",
        "colab_type": "code",
        "colab": {}
      },
      "source": [
        "x_train = x_train.reshape(x_train.shape[0], img_rows, img_cols, 1)\n",
        "x_test = x_test.reshape(x_test.shape[0], img_rows, img_cols, 1)"
      ],
      "execution_count": 0,
      "outputs": []
    },
    {
      "cell_type": "code",
      "metadata": {
        "id": "F4nP-bUrLavL",
        "colab_type": "code",
        "colab": {}
      },
      "source": [
        "x_train = x_train.astype('float32')\n",
        "x_test = x_test.astype('float32')"
      ],
      "execution_count": 0,
      "outputs": []
    },
    {
      "cell_type": "code",
      "metadata": {
        "id": "VWGFghJALgGf",
        "colab_type": "code",
        "colab": {}
      },
      "source": [
        "x_train /= 255\n",
        "x_test /= 255\n"
      ],
      "execution_count": 0,
      "outputs": []
    },
    {
      "cell_type": "code",
      "metadata": {
        "id": "qSA6KoQ8Lm5A",
        "colab_type": "code",
        "colab": {}
      },
      "source": [
        "y_train = np_utils.to_categorical(y_train)\n",
        "y_test = np_utils.to_categorical(y_test)"
      ],
      "execution_count": 0,
      "outputs": []
    },
    {
      "cell_type": "code",
      "metadata": {
        "id": "-6RwnljkLrJB",
        "colab_type": "code",
        "colab": {}
      },
      "source": [
        "num_classes = y_test.shape[1]"
      ],
      "execution_count": 0,
      "outputs": []
    },
    {
      "cell_type": "code",
      "metadata": {
        "id": "7_GDSh2b5FPW",
        "colab_type": "code",
        "colab": {}
      },
      "source": [
        "model = Sequential()\n"
      ],
      "execution_count": 0,
      "outputs": []
    },
    {
      "cell_type": "code",
      "metadata": {
        "id": "FXS6Qqn95JGc",
        "colab_type": "code",
        "colab": {}
      },
      "source": [
        "model.add(Conv2D(20, (5, 5),\n",
        "                 padding = \"same\", \n",
        "                 input_shape = input_shape))\n",
        "model.add(Activation(\"relu\"))\n",
        "model.add(MaxPooling2D(pool_size = (2, 2), strides = (2, 2)))"
      ],
      "execution_count": 0,
      "outputs": []
    },
    {
      "cell_type": "code",
      "metadata": {
        "id": "wz2yHhCZ5NNh",
        "colab_type": "code",
        "colab": {}
      },
      "source": [
        "model.add(Conv2D(50, (5, 5),\n",
        "                 padding = \"same\"))\n",
        "model.add(Activation(\"relu\"))\n",
        "model.add(MaxPooling2D(pool_size = (2, 2), strides = (2, 2)))"
      ],
      "execution_count": 0,
      "outputs": []
    },
    {
      "cell_type": "code",
      "metadata": {
        "id": "3aZ5qBgA6ycn",
        "colab_type": "code",
        "colab": {}
      },
      "source": [
        "model.add(Flatten())"
      ],
      "execution_count": 0,
      "outputs": []
    },
    {
      "cell_type": "code",
      "metadata": {
        "id": "FeVEgaCi7vSo",
        "colab_type": "code",
        "colab": {}
      },
      "source": [
        "model.add(Dense(500))\n",
        "model.add(Activation(\"relu\"))"
      ],
      "execution_count": 0,
      "outputs": []
    },
    {
      "cell_type": "code",
      "metadata": {
        "id": "vE2uwPn3Kk6N",
        "colab_type": "code",
        "colab": {}
      },
      "source": [
        "model.add(Dense(num_classes))\n",
        "model.add(Activation(\"softmax\"))\n",
        "           "
      ],
      "execution_count": 0,
      "outputs": []
    },
    {
      "cell_type": "code",
      "metadata": {
        "id": "LClMxAZPKpHo",
        "colab_type": "code",
        "colab": {}
      },
      "source": [
        "model.compile(loss = 'categorical_crossentropy',\n",
        "              optimizer = keras.optimizers.Adadelta(),\n",
        "              metrics = ['accuracy'])"
      ],
      "execution_count": 0,
      "outputs": []
    },
    {
      "cell_type": "code",
      "metadata": {
        "id": "lB3StbF1MHY9",
        "colab_type": "code",
        "colab": {
          "base_uri": "https://localhost:8080/",
          "height": 538
        },
        "outputId": "b1dfe7f7-aa17-483a-b6ce-90eadcda81fe"
      },
      "source": [
        "print(model.summary())"
      ],
      "execution_count": 54,
      "outputs": [
        {
          "output_type": "stream",
          "text": [
            "Model: \"sequential_1\"\n",
            "_________________________________________________________________\n",
            "Layer (type)                 Output Shape              Param #   \n",
            "=================================================================\n",
            "conv2d_1 (Conv2D)            (None, 28, 28, 20)        520       \n",
            "_________________________________________________________________\n",
            "activation_1 (Activation)    (None, 28, 28, 20)        0         \n",
            "_________________________________________________________________\n",
            "max_pooling2d_1 (MaxPooling2 (None, 14, 14, 20)        0         \n",
            "_________________________________________________________________\n",
            "conv2d_2 (Conv2D)            (None, 14, 14, 50)        25050     \n",
            "_________________________________________________________________\n",
            "activation_2 (Activation)    (None, 14, 14, 50)        0         \n",
            "_________________________________________________________________\n",
            "max_pooling2d_2 (MaxPooling2 (None, 7, 7, 50)          0         \n",
            "_________________________________________________________________\n",
            "flatten_1 (Flatten)          (None, 2450)              0         \n",
            "_________________________________________________________________\n",
            "dense_1 (Dense)              (None, 500)               1225500   \n",
            "_________________________________________________________________\n",
            "activation_3 (Activation)    (None, 500)               0         \n",
            "_________________________________________________________________\n",
            "dense_2 (Dense)              (None, 10)                5010      \n",
            "_________________________________________________________________\n",
            "activation_4 (Activation)    (None, 10)                0         \n",
            "=================================================================\n",
            "Total params: 1,256,080\n",
            "Trainable params: 1,256,080\n",
            "Non-trainable params: 0\n",
            "_________________________________________________________________\n",
            "None\n"
          ],
          "name": "stdout"
        }
      ]
    },
    {
      "cell_type": "code",
      "metadata": {
        "id": "Q2OxUbP0MMSv",
        "colab_type": "code",
        "colab": {
          "base_uri": "https://localhost:8080/",
          "height": 538
        },
        "outputId": "a582c3ac-ac67-4443-a68a-3c5c5a7f7bfe"
      },
      "source": [
        "history = model.fit(x_train, y_train,\n",
        "          batch_size=128,\n",
        "          epochs=15,\n",
        "          validation_data=(x_test, y_test),\n",
        "          shuffle=True)"
      ],
      "execution_count": 55,
      "outputs": [
        {
          "output_type": "stream",
          "text": [
            "Train on 60000 samples, validate on 10000 samples\n",
            "Epoch 1/15\n",
            "60000/60000 [==============================] - 113s 2ms/step - loss: 0.1729 - accuracy: 0.9473 - val_loss: 0.0403 - val_accuracy: 0.9869\n",
            "Epoch 2/15\n",
            "60000/60000 [==============================] - 113s 2ms/step - loss: 0.0431 - accuracy: 0.9864 - val_loss: 0.0360 - val_accuracy: 0.9870\n",
            "Epoch 3/15\n",
            "60000/60000 [==============================] - 113s 2ms/step - loss: 0.0292 - accuracy: 0.9909 - val_loss: 0.0274 - val_accuracy: 0.9908\n",
            "Epoch 4/15\n",
            "60000/60000 [==============================] - 112s 2ms/step - loss: 0.0215 - accuracy: 0.9929 - val_loss: 0.0295 - val_accuracy: 0.9898\n",
            "Epoch 5/15\n",
            "60000/60000 [==============================] - 113s 2ms/step - loss: 0.0156 - accuracy: 0.9951 - val_loss: 0.0222 - val_accuracy: 0.9920\n",
            "Epoch 6/15\n",
            "60000/60000 [==============================] - 108s 2ms/step - loss: 0.0112 - accuracy: 0.9965 - val_loss: 0.0298 - val_accuracy: 0.9906\n",
            "Epoch 7/15\n",
            "60000/60000 [==============================] - 108s 2ms/step - loss: 0.0079 - accuracy: 0.9977 - val_loss: 0.0262 - val_accuracy: 0.9921\n",
            "Epoch 8/15\n",
            "60000/60000 [==============================] - 109s 2ms/step - loss: 0.0061 - accuracy: 0.9981 - val_loss: 0.0222 - val_accuracy: 0.9929\n",
            "Epoch 9/15\n",
            "60000/60000 [==============================] - 108s 2ms/step - loss: 0.0050 - accuracy: 0.9986 - val_loss: 0.0223 - val_accuracy: 0.9933\n",
            "Epoch 10/15\n",
            "60000/60000 [==============================] - 108s 2ms/step - loss: 0.0036 - accuracy: 0.9989 - val_loss: 0.0243 - val_accuracy: 0.9931\n",
            "Epoch 11/15\n",
            "60000/60000 [==============================] - 109s 2ms/step - loss: 0.0025 - accuracy: 0.9993 - val_loss: 0.0230 - val_accuracy: 0.9932\n",
            "Epoch 12/15\n",
            "60000/60000 [==============================] - 106s 2ms/step - loss: 0.0017 - accuracy: 0.9995 - val_loss: 0.0291 - val_accuracy: 0.9919\n",
            "Epoch 13/15\n",
            "60000/60000 [==============================] - 107s 2ms/step - loss: 0.0012 - accuracy: 0.9997 - val_loss: 0.0321 - val_accuracy: 0.9917\n",
            "Epoch 14/15\n",
            "60000/60000 [==============================] - 107s 2ms/step - loss: 0.0012 - accuracy: 0.9997 - val_loss: 0.0288 - val_accuracy: 0.9929\n",
            "Epoch 15/15\n",
            "60000/60000 [==============================] - 110s 2ms/step - loss: 8.8003e-04 - accuracy: 0.9998 - val_loss: 0.0256 - val_accuracy: 0.9936\n"
          ],
          "name": "stdout"
        }
      ]
    },
    {
      "cell_type": "code",
      "metadata": {
        "id": "8jIJI9v9WBeP",
        "colab_type": "code",
        "colab": {}
      },
      "source": [
        ""
      ],
      "execution_count": 0,
      "outputs": []
    },
    {
      "cell_type": "code",
      "metadata": {
        "id": "kuse3-viNBo2",
        "colab_type": "code",
        "colab": {}
      },
      "source": [
        "model.save(\"mnist_LeNet.h5\")"
      ],
      "execution_count": 0,
      "outputs": []
    },
    {
      "cell_type": "code",
      "metadata": {
        "id": "N03v1bCdVegI",
        "colab_type": "code",
        "colab": {
          "base_uri": "https://localhost:8080/",
          "height": 67
        },
        "outputId": "c4f0ee36-76d1-4691-d29e-098b653662aa"
      },
      "source": [
        "scores = model.evaluate(x_test, y_test, verbose=1)\n",
        "print('Test loss:', scores[0])\n",
        "print('Test accuracy:', scores[1])"
      ],
      "execution_count": 57,
      "outputs": [
        {
          "output_type": "stream",
          "text": [
            "10000/10000 [==============================] - 6s 565us/step\n",
            "Test loss: 0.02562469412883359\n",
            "Test accuracy: 0.9936000108718872\n"
          ],
          "name": "stdout"
        }
      ]
    },
    {
      "cell_type": "code",
      "metadata": {
        "id": "uZxnmrntVnnw",
        "colab_type": "code",
        "colab": {}
      },
      "source": [
        ""
      ],
      "execution_count": 0,
      "outputs": []
    }
  ]
}